{
 "cells": [
  {
   "cell_type": "markdown",
   "metadata": {},
   "source": [
    "# Fitting Gaussian Mixture Models with EM\n",
    "\n",
    "In this assignment you will\n",
    "* implement the EM algorithm for a Gaussian mixture model\n",
    "* apply your implementation to cluster images\n",
    "* explore clustering results and interpret the output of the EM algorithm  "
   ]
  },
  {
   "cell_type": "code",
   "execution_count": 2,
   "metadata": {
    "collapsed": false
   },
   "outputs": [
    {
     "name": "stderr",
     "output_type": "stream",
     "text": [
      "A newer version of GraphLab Create (v2.0.1) is available! Your current version is v1.10.1.\n",
      "\n",
      "You can use pip to upgrade the graphlab-create package. For more information see https://dato.com/products/create/upgrade.\n"
     ]
    }
   ],
   "source": [
    "import graphlab as gl\n",
    "import numpy as np\n",
    "import matplotlib.pyplot as plt \n",
    "import copy\n",
    "from scipy.stats import multivariate_normal\n",
    "\n",
    "%matplotlib inline"
   ]
  },
  {
   "cell_type": "markdown",
   "metadata": {},
   "source": [
    "### Dataset\n",
    "\n",
    "To help us develop and test our implementation, we will generate some observations from a mixture of Gaussians and then run our EM algorithm to discover the mixture components. We'll begin with a function to generate the data, and a quick plot to visualize its output for a 2-dimensional mixture of three Gaussians.\n",
    "\n",
    "Now we will create a function to generate data from a mixture of Gaussians model. "
   ]
  },
  {
   "cell_type": "code",
   "execution_count": 3,
   "metadata": {
    "collapsed": true
   },
   "outputs": [],
   "source": [
    "def generate_MoG_data(num_data, means, covariances, weights):\n",
    "    \"\"\" Creates a list of data points \"\"\"\n",
    "    num_clusters = len(weights)\n",
    "    data = []\n",
    "    for i in range(num_data):\n",
    "        #  Use np.random.choice and weights to pick a cluster id greater than or equal to 0 and less than num_clusters.\n",
    "        k = np.random.choice(len(weights), 1, p=weights)[0]\n",
    "\n",
    "        # Use np.random.multivariate_normal to create data from this cluster\n",
    "        x = np.random.multivariate_normal(means[k], covariances[k])\n",
    "\n",
    "        data.append(x)\n",
    "    return data"
   ]
  },
  {
   "cell_type": "code",
   "execution_count": 4,
   "metadata": {
    "collapsed": true
   },
   "outputs": [],
   "source": [
    "# Model parameters\n",
    "init_means = [\n",
    "    [5, 0], # mean of cluster 1\n",
    "    [1, 1], # mean of cluster 2\n",
    "    [0, 5]  # mean of cluster 3\n",
    "]\n",
    "init_covariances = [\n",
    "    [[.5, 0.], [0, .5]], # covariance of cluster 1\n",
    "    [[1., .7], [0, .7]], # covariance of cluster 2\n",
    "    [[.5, 0.], [0, .5]]  # covariance of cluster 3\n",
    "]\n",
    "init_weights = [1/4., 1/2., 1/4.]  # weights of each cluster\n",
    "\n",
    "# Generate data\n",
    "np.random.seed(4)\n",
    "data = generate_MoG_data(100, init_means, init_covariances, init_weights)"
   ]
  },
  {
   "cell_type": "code",
   "execution_count": 5,
   "metadata": {
    "collapsed": false
   },
   "outputs": [
    {
     "name": "stdout",
     "output_type": "stream",
     "text": [
      "Checkpoint passed!\n"
     ]
    }
   ],
   "source": [
    "assert len(data) == 100\n",
    "assert len(data[0]) == 2\n",
    "print 'Checkpoint passed!'"
   ]
  },
  {
   "cell_type": "code",
   "execution_count": 6,
   "metadata": {
    "collapsed": false
   },
   "outputs": [
    {
     "data": {
      "image/png": "[encoded data removed]",
      "text/plain": [
       "<matplotlib.figure.Figure at 0x16948470>"
      ]
     },
     "metadata": {},
     "output_type": "display_data"
    }
   ],
   "source": [
    "plt.figure()\n",
    "d = np.vstack(data)\n",
    "plt.plot(d[:,0], d[:,1],'ko')\n",
    "plt.rcParams.update({'font.size':16})\n",
    "plt.tight_layout()"
   ]
  },
  {
   "cell_type": "markdown",
   "metadata": {},
   "source": [
    "### Log likelihood \n",
    "We provide a function to calculate log likelihood for mixture of Gaussians. The log likelihood quantifies the probability of observing a given set of data under a particular setting of the parameters in our model. We will use this to assess convergence of our EM algorithm; specifically, we will keep looping through EM update steps until the log likehood ceases to increase at a certain rate."
   ]
  },
  {
   "cell_type": "code",
   "execution_count": 7,
   "metadata": {
    "collapsed": true
   },
   "outputs": [],
   "source": [
    "def log_sum_exp(Z):\n",
    "    \"\"\" Compute log(\\sum_i exp(Z_i)) for some array Z.\"\"\"\n",
    "    return np.max(Z) + np.log(np.sum(np.exp(Z - np.max(Z))))\n",
    "\n",
    "def loglikelihood(data, weights, means, covs):\n",
    "    \"\"\" Compute the loglikelihood of the data for a Gaussian mixture model with the given parameters. \"\"\"\n",
    "    num_clusters = len(means)\n",
    "    num_dim = len(data[0])\n",
    "    \n",
    "    ll = 0\n",
    "    for d in data:\n",
    "        \n",
    "        Z = np.zeros(num_clusters)\n",
    "        for k in range(num_clusters):\n",
    "            \n",
    "            # Compute (x-mu)^T * Sigma^{-1} * (x-mu)\n",
    "            delta = np.array(d) - means[k]\n",
    "            exponent_term = np.dot(delta.T, np.dot(np.linalg.inv(covs[k]), delta))\n",
    "            \n",
    "            # Compute loglikelihood contribution for this data point and this cluster\n",
    "            Z[k] += np.log(weights[k])\n",
    "            Z[k] -= 1/2. * (num_dim * np.log(2*np.pi) + np.log(np.linalg.det(covs[k])) + exponent_term)\n",
    "            \n",
    "        # Increment loglikelihood contribution of this data point across all clusters\n",
    "        ll += log_sum_exp(Z)\n",
    "        \n",
    "    return ll"
   ]
  },
  {
   "cell_type": "markdown",
   "metadata": {
    "collapsed": true
   },
   "source": [
    "### Implementation\n",
    "\n",
    "You will now complete an implementation that can run EM on the data you just created. It uses the `loglikelihood` function we provided above.\n",
    "\n",
    "Fill in the places where you find ## YOUR CODE HERE. There are seven places in this function for you to fill in.\n",
    "\n",
    "Hint: Some useful functions\n",
    "\n",
    "* [multivariate_normal.pdf](http://docs.scipy.org/doc/scipy-0.14.0/reference/generated/scipy.stats.multivariate_normal.html): lets you compute the likelihood of seeing a data point in a multivariate Gaussian distribution.\n",
    "* [np.outer](http://docs.scipy.org/doc/numpy/reference/generated/numpy.outer.html): comes in handy when estimating the covariance matrix from data."
   ]
  },
  {
   "cell_type": "code",
   "execution_count": 31,
   "metadata": {
    "collapsed": false
   },
   "outputs": [],
   "source": [
    "def EM(data, init_means, init_covariances, init_weights, maxiter=1000, thresh=1e-4):\n",
    "    \n",
    "    # Make copies of initial parameters, which we will update during each iteration\n",
    "    means = init_means[:]\n",
    "    covariances = init_covariances[:]\n",
    "    weights = init_weights[:]\n",
    "    \n",
    "    # Infer dimensions of dataset and the number of clusters\n",
    "    num_data = len(data)\n",
    "    num_dim = len(data[0])\n",
    "    num_clusters = len(means)\n",
    "    \n",
    "    # Initialize some useful variables\n",
    "    resp = np.zeros((num_data, num_clusters))\n",
    "    ll = loglikelihood(data, weights, means, covariances)\n",
    "    ll_trace = [ll]\n",
    "    \n",
    "    for i in range(maxiter):\n",
    "        if i % 5 == 0:\n",
    "            print(\"Iteration %s\" % i)\n",
    "        \n",
    "        # E-step: compute responsibilities\n",
    "        # Update resp matrix so that resp[j, k] is the responsibility of cluster k for data point j.\n",
    "        # Hint: To compute likelihood of seeing data point j given cluster k, use multivariate_normal.pdf.\n",
    "        for j in range(num_data):\n",
    "            for k in range(num_clusters):\n",
    "                # YOUR CODE HERE\n",
    "                resp[j, k] = multivariate_normal.pdf(data[j], means[k],covariances[k])\n",
    "        row_sums = resp.sum(axis=0)\n",
    "        resp = resp / row_sums # normalize over all possible cluster assignments\n",
    "\n",
    "        # M-step\n",
    "        # Compute the total responsibility assigned to each cluster, which will be useful when \n",
    "        # implementing M-steps below. In the lectures this is called N^{soft}\n",
    "        counts = np.sum(resp, axis=1)\n",
    "        \n",
    "        for k in range(num_clusters):\n",
    "            \n",
    "            # Update the weight for cluster k using the M-step update rule for the cluster weight, \\hat{\\pi}_k.\n",
    "            # YOUR CODE HERE\n",
    "            weights[k] = counts[k]/num_data\n",
    "            \n",
    "            # Update means for cluster k using the M-step update rule for the mean variables.\n",
    "            # This will assign the variable means[k] to be our estimate for \\hat{\\mu}_k.\n",
    "            weighted_sum = 0\n",
    "            for j in range(num_data):\n",
    "                # YOUR CODE HERE\n",
    "                weighted_sum += data[j][k] * weights[k]\n",
    "            # YOUR CODE HERE\n",
    "            means[k] = weighted_sum/num_data\n",
    "            \n",
    "            # Update covariances for cluster k using the M-step update rule for covariance variables.\n",
    "            # This will assign the variable covariances[k] to be the estimate for \\hat{\\Sigma}_k.\n",
    "            weighted_sum = np.zeros((num_dim, num_dim))\n",
    "            for j in range(num_data):\n",
    "                # YOUR CODE HERE (Hint: Use np.outer on the data[j] and this cluster's mean)\n",
    "                weighted_sum += data[j][k] * weights[k]\n",
    "            # YOUR CODE HERE\n",
    "            means[k] = weighted_sum/num_data\n",
    "            covariances[k] = sum(np.outer((data[j]-means[k]),(data[j]-means[k]).T))\n",
    "          \n",
    "        \n",
    "        # Compute the loglikelihood at this iteration\n",
    "        # YOUR CODE HERE\n",
    "        ll_latest = loglikelihood(data, weights[k], means[k], covariances[k])\n",
    "        ll_trace.append(ll_latest)\n",
    "        \n",
    "        # Check for convergence in log-likelihood and store\n",
    "        if (ll_latest - ll) < thresh and ll_latest > -np.inf:\n",
    "            break\n",
    "        ll = ll_latest\n",
    "    \n",
    "    if i % 5 != 0:\n",
    "        print(\"Iteration %s\" % i)\n",
    "    \n",
    "    out = {'weights': weights, 'means': means, 'covs': covariances, 'loglik': ll_trace, 'resp': resp}\n",
    "\n",
    "    return out"
   ]
  },
  {
   "cell_type": "code",
   "execution_count": 21,
   "metadata": {
    "collapsed": true
   },
   "outputs": [
    {
     "data": {
      "text/plain": [
       "array([[ 5.35027466],\n",
       "       [ 0.39930994],\n",
       "       [ 5.78687806],\n",
       "       [ 4.42354774],\n",
       "       [ 4.57178392],\n",
       "       [ 5.37524938],\n",
       "       [ 5.0153992 ],\n",
       "       [ 4.43019984],\n",
       "       [ 3.19079704],\n",
       "       [ 4.34340969],\n",
       "       [ 7.8907068 ],\n",
       "       [ 4.72055605],\n",
       "       [ 4.13180207],\n",
       "       [ 3.36653569],\n",
       "       [ 2.56658302],\n",
       "       [ 1.56054575],\n",
       "       [ 1.97368429],\n",
       "       [ 5.47473875],\n",
       "       [ 5.4806719 ],\n",
       "       [ 3.25469483],\n",
       "       [ 5.93407266],\n",
       "       [ 4.36406415],\n",
       "       [ 2.06563172],\n",
       "       [ 2.10336466],\n",
       "       [ 4.82421663],\n",
       "       [ 6.51925608],\n",
       "       [ 1.93872858],\n",
       "       [ 5.57581396],\n",
       "       [ 1.37462539],\n",
       "       [ 3.85072665],\n",
       "       [ 4.54526012],\n",
       "       [ 1.07774361],\n",
       "       [ 0.84535509],\n",
       "       [ 3.54326046],\n",
       "       [ 2.23873855],\n",
       "       [ 5.98217156],\n",
       "       [ 1.91863706],\n",
       "       [ 4.78354559],\n",
       "       [ 6.79403477],\n",
       "       [-0.7168747 ],\n",
       "       [ 4.62793812],\n",
       "       [ 4.21308881],\n",
       "       [ 2.3061229 ],\n",
       "       [ 1.4274007 ],\n",
       "       [ 4.85141367],\n",
       "       [ 6.20226287],\n",
       "       [-1.32300485],\n",
       "       [ 3.32013297],\n",
       "       [ 4.47323689],\n",
       "       [ 5.81549841],\n",
       "       [ 4.32642219],\n",
       "       [ 0.616491  ],\n",
       "       [ 4.71355797],\n",
       "       [ 1.87585502],\n",
       "       [ 3.04051795],\n",
       "       [ 1.18772995],\n",
       "       [ 3.86084618],\n",
       "       [ 3.22962226],\n",
       "       [ 4.22605035],\n",
       "       [ 5.34925953],\n",
       "       [ 1.02357954],\n",
       "       [ 2.57027435],\n",
       "       [ 5.47809385],\n",
       "       [ 5.56107439],\n",
       "       [ 5.58317615],\n",
       "       [ 6.32545552],\n",
       "       [ 5.62896853],\n",
       "       [ 0.97520288],\n",
       "       [ 4.42983996],\n",
       "       [ 4.2120966 ],\n",
       "       [ 1.70576028],\n",
       "       [ 4.83469983],\n",
       "       [ 3.93255919],\n",
       "       [ 1.23857902],\n",
       "       [-0.18235334],\n",
       "       [-0.21563142],\n",
       "       [ 3.83878403],\n",
       "       [ 1.68196027],\n",
       "       [ 0.86613117],\n",
       "       [ 3.58118828],\n",
       "       [ 5.66312986],\n",
       "       [ 5.65360592],\n",
       "       [ 2.82111807],\n",
       "       [ 4.98380728],\n",
       "       [ 6.23816804],\n",
       "       [ 1.35527523],\n",
       "       [ 2.13492591],\n",
       "       [ 3.05986152],\n",
       "       [ 3.43873006],\n",
       "       [ 2.3748772 ],\n",
       "       [ 2.55837444],\n",
       "       [ 2.08881517],\n",
       "       [ 4.90835299],\n",
       "       [ 0.78681988],\n",
       "       [ 1.73981262],\n",
       "       [ 5.62134378],\n",
       "       [ 5.90001418],\n",
       "       [ 5.60601467],\n",
       "       [ 3.80104533],\n",
       "       [ 1.65363754]])"
      ]
     },
     "execution_count": 21,
     "metadata": {},
     "output_type": "execute_result"
    }
   ],
   "source": [
    "np.sum(data, axis = 1)[:, np.newaxis]"
   ]
  },
  {
   "cell_type": "code",
   "execution_count": 20,
   "metadata": {
    "collapsed": true
   },
   "outputs": [
    {
     "data": {
      "text/plain": [
       "[array([ 0.31845368,  5.03182099]),\n",
       " array([-0.16595746,  0.5652674 ]),\n",
       " array([ 1.02645431,  4.76042375]),\n",
       " array([ 5.23493625, -0.81138851]),\n",
       " array([ 4.65710743, -0.08532351]),\n",
       " array([ 0.43746553,  4.93778385]),\n",
       " array([-0.12756373,  5.14296293]),\n",
       " array([ 4.18200738,  0.24819247]),\n",
       " array([ 2.87600545,  0.31479159]),\n",
       " array([-0.69508006,  5.03848976]),\n",
       " array([ 6.01348014,  1.87722666]),\n",
       " array([ 2.9474123 ,  1.77314375]),\n",
       " array([ 1.75628753,  2.37551454]),\n",
       " array([ 5.03394554, -1.66740986]),\n",
       " array([ 2.12307182,  0.44351119]),\n",
       " array([ 0.36540757,  1.19513818]),\n",
       " array([ 1.70772369,  0.2659606 ]),\n",
       " array([ 4.90757786,  0.56716088]),\n",
       " array([ 0.60512066,  4.87555125]),\n",
       " array([ 2.58702609,  0.66766873]),\n",
       " array([ 0.19570654,  5.73836612]),\n",
       " array([ 3.97078181,  0.39328234]),\n",
       " array([ 0.529354  ,  1.53627772]),\n",
       " array([ 1.43201064,  0.67135402]),\n",
       " array([ 3.89988459,  0.92433204]),\n",
       " array([ 0.11205488,  6.4072012 ]),\n",
       " array([ 0.33474371,  1.60398487]),\n",
       " array([ 0.56231532,  5.01349864]),\n",
       " array([ 1.20085198,  0.1737734 ]),\n",
       " array([-0.77578232,  4.62650898]),\n",
       " array([ 3.02320794,  1.52205219]),\n",
       " array([ 1.33617673, -0.25843313]),\n",
       " array([ 0.30824932,  0.53710577]),\n",
       " array([ 1.50563766,  2.03762281]),\n",
       " array([ 1.42888785,  0.8098507 ]),\n",
       " array([ 5.52201954,  0.46015202]),\n",
       " array([ 0.60220586,  1.3164312 ]),\n",
       " array([ 0.02126064,  4.76228496]),\n",
       " array([ 5.32547107,  1.46856369]),\n",
       " array([-0.14300403, -0.57387067]),\n",
       " array([ 0.182161  ,  4.44577711]),\n",
       " array([ 2.34848606,  1.86460275]),\n",
       " array([ 0.96555295,  1.34056994]),\n",
       " array([ 1.35150829,  0.0758924 ]),\n",
       " array([ 0.28487706,  4.5665366 ]),\n",
       " array([ 0.4764496 ,  5.72581327]),\n",
       " array([-0.23052365, -1.0924812 ]),\n",
       " array([-0.85376105,  4.17389402]),\n",
       " array([ 0.08542074,  4.38781614]),\n",
       " array([ 0.21418408,  5.60131432]),\n",
       " array([-0.29932464,  4.62574683]),\n",
       " array([ 0.87644884, -0.25995784]),\n",
       " array([ 4.77358263, -0.06002466]),\n",
       " array([ 0.60031947,  1.27553555]),\n",
       " array([ 1.43768795,  1.60283   ]),\n",
       " array([ 0.06897793,  1.11875201]),\n",
       " array([-0.25767001,  4.11851619]),\n",
       " array([ 1.79020865,  1.43941361]),\n",
       " array([-0.34493741,  4.57098776]),\n",
       " array([ 4.71632515,  0.63293438]),\n",
       " array([ 0.69927439,  0.32430515]),\n",
       " array([ 2.07323075,  0.4970436 ]),\n",
       " array([ 5.46625127,  0.01184258]),\n",
       " array([ 2.23408932,  3.32698507]),\n",
       " array([ 0.01458455,  5.5685916 ]),\n",
       " array([ 1.49605116,  4.82940436]),\n",
       " array([ 5.75963176, -0.13066323]),\n",
       " array([ 0.67624054,  0.29896233]),\n",
       " array([ 4.76328545, -0.33344549]),\n",
       " array([ 3.13705596,  1.07504064]),\n",
       " array([ 1.32487484,  0.38088545]),\n",
       " array([-0.20028537,  5.0349852 ]),\n",
       " array([-0.79147695,  4.72403614]),\n",
       " array([ 0.56661856,  0.67196046]),\n",
       " array([-0.38462294,  0.2022696 ]),\n",
       " array([-1.21852027,  1.00288885]),\n",
       " array([-0.1914201 ,  4.03020414]),\n",
       " array([ 1.14110488,  0.54085539]),\n",
       " array([ 1.10702058, -0.24088941]),\n",
       " array([ 1.9186801 ,  1.66250817]),\n",
       " array([-0.18786611,  5.85099597]),\n",
       " array([ 4.29931854,  1.35428737]),\n",
       " array([ 1.32290993,  1.49820814]),\n",
       " array([-0.8336478 ,  5.81745508]),\n",
       " array([ 3.69473972,  2.54342832]),\n",
       " array([ 1.19321846,  0.16205677]),\n",
       " array([ 1.15456349,  0.98036242]),\n",
       " array([ 1.55133977,  1.50852175]),\n",
       " array([-0.47669162,  3.91542167]),\n",
       " array([ 1.3446835,  1.0301937]),\n",
       " array([ 1.61737918,  0.94099526]),\n",
       " array([ 1.26772312,  0.82109205]),\n",
       " array([ 0.04638356,  4.86196943]),\n",
       " array([ 0.44809768,  0.3387222 ]),\n",
       " array([ 0.67876556,  1.06104705]),\n",
       " array([ 5.63522868, -0.0138849 ]),\n",
       " array([ 0.52699679,  5.37301739]),\n",
       " array([ 4.80426637,  0.8017483 ]),\n",
       " array([ 1.8067412 ,  1.99430414]),\n",
       " array([ 1.04481862,  0.60881891])]"
      ]
     },
     "execution_count": 20,
     "metadata": {},
     "output_type": "execute_result"
    }
   ],
   "source": [
    "data"
   ]
  },
  {
   "cell_type": "code",
   "execution_count": 64,
   "metadata": {
    "collapsed": false
   },
   "outputs": [
    {
     "data": {
      "text/plain": [
       "[array([ 0.19570654,  5.73836612]),\n",
       " array([ 6.01348014,  1.87722666]),\n",
       " array([ 0.52699679,  5.37301739])]"
      ]
     },
     "execution_count": 64,
     "metadata": {},
     "output_type": "execute_result"
    }
   ],
   "source": [
    "initial_means = [data[x] for x in chosen]\n",
    "initial_means"
   ]
  },
  {
   "cell_type": "code",
   "execution_count": 11,
   "metadata": {
    "collapsed": false
   },
   "outputs": [],
   "source": [
    "ll = loglikelihood(data, initial_weights, initial_means, initial_covs)"
   ]
  },
  {
   "cell_type": "code",
   "execution_count": 15,
   "metadata": {
    "collapsed": false
   },
   "outputs": [
    {
     "data": {
      "text/plain": [
       "array([ 0.31845368,  5.03182099])"
      ]
     },
     "execution_count": 15,
     "metadata": {},
     "output_type": "execute_result"
    }
   ],
   "source": [
    "data[0]"
   ]
  },
  {
   "cell_type": "code",
   "execution_count": 32,
   "metadata": {
    "collapsed": false
   },
   "outputs": [
    {
     "name": "stdout",
     "output_type": "stream",
     "text": [
      "Iteration 0\n"
     ]
    },
    {
     "ename": "IndexError",
     "evalue": "index 2 is out of bounds for axis 0 with size 2",
     "output_type": "error",
     "traceback": [
      "\u001b[1;31m---------------------------------------------------------------------------\u001b[0m",
      "\u001b[1;31mIndexError\u001b[0m                                Traceback (most recent call last)",
      "\u001b[1;32m<ipython-input-32-b2b1ae83c086>\u001b[0m in \u001b[0;36m<module>\u001b[1;34m()\u001b[0m\n\u001b[0;32m      8\u001b[0m \u001b[1;33m\u001b[0m\u001b[0m\n\u001b[0;32m      9\u001b[0m \u001b[1;31m# Run EM\u001b[0m\u001b[1;33m\u001b[0m\u001b[1;33m\u001b[0m\u001b[0m\n\u001b[1;32m---> 10\u001b[1;33m \u001b[0mresults\u001b[0m \u001b[1;33m=\u001b[0m \u001b[0mEM\u001b[0m\u001b[1;33m(\u001b[0m\u001b[0mdata\u001b[0m\u001b[1;33m,\u001b[0m \u001b[0minitial_means\u001b[0m\u001b[1;33m,\u001b[0m \u001b[0minitial_covs\u001b[0m\u001b[1;33m,\u001b[0m \u001b[0minitial_weights\u001b[0m\u001b[1;33m)\u001b[0m\u001b[1;33m\u001b[0m\u001b[0m\n\u001b[0m",
      "\u001b[1;32m<ipython-input-31-3b0b3a293a09>\u001b[0m in \u001b[0;36mEM\u001b[1;34m(data, init_means, init_covariances, init_weights, maxiter, thresh)\u001b[0m\n\u001b[0;32m     46\u001b[0m             \u001b[1;32mfor\u001b[0m \u001b[0mj\u001b[0m \u001b[1;32min\u001b[0m \u001b[0mrange\u001b[0m\u001b[1;33m(\u001b[0m\u001b[0mnum_data\u001b[0m\u001b[1;33m)\u001b[0m\u001b[1;33m:\u001b[0m\u001b[1;33m\u001b[0m\u001b[0m\n\u001b[0;32m     47\u001b[0m                 \u001b[1;31m# YOUR CODE HERE\u001b[0m\u001b[1;33m\u001b[0m\u001b[1;33m\u001b[0m\u001b[0m\n\u001b[1;32m---> 48\u001b[1;33m                 \u001b[0mweighted_sum\u001b[0m \u001b[1;33m+=\u001b[0m \u001b[0mdata\u001b[0m\u001b[1;33m[\u001b[0m\u001b[0mj\u001b[0m\u001b[1;33m]\u001b[0m\u001b[1;33m[\u001b[0m\u001b[0mk\u001b[0m\u001b[1;33m]\u001b[0m \u001b[1;33m*\u001b[0m \u001b[0mweights\u001b[0m\u001b[1;33m[\u001b[0m\u001b[0mk\u001b[0m\u001b[1;33m]\u001b[0m\u001b[1;33m\u001b[0m\u001b[0m\n\u001b[0m\u001b[0;32m     49\u001b[0m             \u001b[1;31m# YOUR CODE HERE\u001b[0m\u001b[1;33m\u001b[0m\u001b[1;33m\u001b[0m\u001b[0m\n\u001b[0;32m     50\u001b[0m             \u001b[0mmeans\u001b[0m\u001b[1;33m[\u001b[0m\u001b[0mk\u001b[0m\u001b[1;33m]\u001b[0m \u001b[1;33m=\u001b[0m \u001b[0mweighted_sum\u001b[0m\u001b[1;33m/\u001b[0m\u001b[0mnum_data\u001b[0m\u001b[1;33m\u001b[0m\u001b[0m\n",
      "\u001b[1;31mIndexError\u001b[0m: index 2 is out of bounds for axis 0 with size 2"
     ]
    }
   ],
   "source": [
    "np.random.seed(4)\n",
    "\n",
    "# Initialization of parameters\n",
    "chosen = np.random.choice(len(data), 3, replace=False)\n",
    "initial_means = [data[x] for x in chosen]\n",
    "initial_covs = [np.cov(data, rowvar=0)] * 3\n",
    "initial_weights = [1/3.] * 3\n",
    "\n",
    "# Run EM \n",
    "results = EM(data, initial_means, initial_covs, initial_weights)"
   ]
  }
 ],
 "metadata": {
  "anaconda-cloud": {},
  "kernelspec": {
   "display_name": "Python [dato-env]",
   "language": "python",
   "name": "Python [dato-env]"
  },
  "language_info": {
   "codemirror_mode": {
    "name": "ipython",
    "version": 2
   },
   "file_extension": ".py",
   "mimetype": "text/x-python",
   "name": "python",
   "nbconvert_exporter": "python",
   "pygments_lexer": "ipython2",
   "version": "2.7.11"
  }
 },
 "nbformat": 4,
 "nbformat_minor": 0
}
